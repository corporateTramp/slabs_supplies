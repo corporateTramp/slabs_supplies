{
 "cells": [
  {
   "cell_type": "code",
   "execution_count": 1,
   "metadata": {
    "collapsed": false
   },
   "outputs": [],
   "source": [
    "import pandas as pd\n",
    "import numpy as np\n",
    "import SETTINGS as s\n",
    "import matplotlib.pyplot as plt\n",
    "#затягиваем настройки\n",
    "cal = pd.read_excel('meta_settings/calendar.xlsx')\n",
    "grades_trans = pd.read_excel('meta_settings/grades_translation.xlsx')\n",
    "#затягиваем данные\n",
    "cons = pd.read_excel('input/consumption.xlsx')\n",
    "cur_inv = pd.read_excel('input/inventory.xlsx')\n",
    "orders = pd.read_excel('input/orders.xlsx')\n",
    "#consN.to_excel('check.xlsx')"
   ]
  },
  {
   "cell_type": "code",
   "execution_count": 2,
   "metadata": {
    "collapsed": false
   },
   "outputs": [],
   "source": [
    "#prepare, тут лучше работать через календарь - исправить\n",
    "calW=cal.ix[:,1:].drop_duplicates()\n",
    "cons = cons.merge(calW,how='left',on=['year','week'])\n",
    "clear = pd.DataFrame(cons.week_acc.drop_duplicates().reset_index(drop=True))\n",
    "clear['week_clear']=clear.index+1\n",
    "cons = cons.merge(clear,how='left',on=['week_acc'])"
   ]
  },
  {
   "cell_type": "code",
   "execution_count": 3,
   "metadata": {
    "collapsed": false
   },
   "outputs": [],
   "source": [
    "#pivot consumption\n",
    "consPivC = pd.pivot_table(cons, columns = 'week_clear', index=['grade','gauge','width'], values='quantity', aggfunc=np.sum,fill_value=0)\n",
    "consPiv = pd.pivot_table(cons, columns = 'week_acc', index=['grade','gauge','width'], values='quantity', aggfunc=np.sum,fill_value=0)"
   ]
  },
  {
   "cell_type": "code",
   "execution_count": 4,
   "metadata": {
    "collapsed": false
   },
   "outputs": [],
   "source": [
    "#методы прогноза, возвращают табличку с прогнозом\n",
    "def forecast_naive1week(consPiv, lt):\n",
    "    Forecast = pd.DataFrame(index = consPiv.index, data = consPiv.values, columns = consPiv.columns+lt)\n",
    "    return Forecast    "
   ]
  },
  {
   "cell_type": "code",
   "execution_count": 5,
   "metadata": {
    "collapsed": false
   },
   "outputs": [],
   "source": [
    "#делаю прогноз\n",
    "forecast = forecast_naive1week(consPivC, s.lt)"
   ]
  },
  {
   "cell_type": "code",
   "execution_count": 6,
   "metadata": {
    "collapsed": false
   },
   "outputs": [],
   "source": [
    "#выбираю отрезок, на котором буду считать страховой запас\n",
    "st = max(forecast.columns.min(),consPivC.columns.min())\n",
    "end = min(forecast.columns.max(),consPivC.columns.max())"
   ]
  },
  {
   "cell_type": "code",
   "execution_count": 7,
   "metadata": {
    "collapsed": false
   },
   "outputs": [],
   "source": [
    "#табличка с отклонениями прогноза\n",
    "deviation = (forecast.ix[:,st:end] - consPivC.ix[:,st:end])\n",
    "deviation[deviation<0]=0"
   ]
  },
  {
   "cell_type": "code",
   "execution_count": 8,
   "metadata": {
    "collapsed": false
   },
   "outputs": [],
   "source": [
    "#делаем табличку для занесения safety stock\n",
    "safety_table = pd.Series(index = consPivC.index)"
   ]
  },
  {
   "cell_type": "code",
   "execution_count": 9,
   "metadata": {
    "collapsed": false
   },
   "outputs": [],
   "source": [
    "#считаем страховой запас lt\n",
    "DEVs = deviation.iterrows()\n",
    "for x in range(len(deviation)):\n",
    "    r = next(DEVs)[1].rolling(window=s.lt)\n",
    "    ss = r.sum().max()\n",
    "    safety_table[x] = ss"
   ]
  },
  {
   "cell_type": "code",
   "execution_count": 10,
   "metadata": {
    "collapsed": false
   },
   "outputs": [],
   "source": [
    "#считаем, что будет потребляться в теч лид тайма\n",
    "cons_lt = forecast.ix[:,s.start_week:(s.start_week+s.lt)]\n",
    "cons_lt = cons_lt.stack().groupby(level=[0,1,2]).sum()"
   ]
  },
  {
   "cell_type": "code",
   "execution_count": 11,
   "metadata": {
    "collapsed": false
   },
   "outputs": [],
   "source": [
    "#затягиваем и подготавливаем заказы\n",
    "orders = orders.merge(cal,how='left',on=['date'])\n",
    "orders = orders.merge(grades_trans,how='left',on=['gradeLIP'])"
   ]
  },
  {
   "cell_type": "code",
   "execution_count": 12,
   "metadata": {
    "collapsed": false
   },
   "outputs": [],
   "source": [
    "#выбираем последние заказы и получаем товары в пути \n",
    "in_transit = orders.loc[orders['week_acc'].isin(range(s.start_week-s.lt,s.start_week))]\n",
    "in_transit = in_transit.pivot_table(index = ['gradeUS','gauge','width'],values = 'qMt',aggfunc=np.sum)\n",
    "in_transit.index.rename(['grade','gauge','width'], inplace = True)\n"
   ]
  },
  {
   "cell_type": "code",
   "execution_count": 36,
   "metadata": {
    "collapsed": false,
    "scrolled": true
   },
   "outputs": [
    {
     "data": {
      "text/plain": [
       "<matplotlib.axes._subplots.AxesSubplot at 0x32f707f0>"
      ]
     },
     "execution_count": 36,
     "metadata": {},
     "output_type": "execute_result"
    },
    {
     "data": {
      "image/png": "[encoded data removed]",
      "text/plain": [
       "<matplotlib.figure.Figure at 0x31de2b38>"
      ]
     },
     "metadata": {},
     "output_type": "display_data"
    }
   ],
   "source": [
    "#пример графика\n",
    "consPivC[1].plot()"
   ]
  },
  {
   "cell_type": "code",
   "execution_count": 14,
   "metadata": {
    "collapsed": false
   },
   "outputs": [],
   "source": [
    "#считаем запас на момент поставки текущего заказа"
   ]
  },
  {
   "cell_type": "code",
   "execution_count": 15,
   "metadata": {
    "collapsed": false
   },
   "outputs": [],
   "source": [
    "#считаем потребность, исходя из прогноза на период [lead time:lead time+interval]"
   ]
  },
  {
   "cell_type": "code",
   "execution_count": 16,
   "metadata": {
    "collapsed": true
   },
   "outputs": [],
   "source": [
    "#формируем судовую партию"
   ]
  },
  {
   "cell_type": "code",
   "execution_count": 17,
   "metadata": {
    "collapsed": true
   },
   "outputs": [],
   "source": [
    "#формируем заказ"
   ]
  }
 ],
 "metadata": {
  "kernelspec": {
   "display_name": "Python 3",
   "language": "python",
   "name": "python3"
  },
  "language_info": {
   "codemirror_mode": {
    "name": "ipython",
    "version": 3
   },
   "file_extension": ".py",
   "mimetype": "text/x-python",
   "name": "python",
   "nbconvert_exporter": "python",
   "pygments_lexer": "ipython3",
   "version": "3.5.2"
  }
 },
 "nbformat": 4,
 "nbformat_minor": 1
}
